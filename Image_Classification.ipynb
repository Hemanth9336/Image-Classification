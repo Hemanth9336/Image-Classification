{
  "nbformat": 4,
  "nbformat_minor": 0,
  "metadata": {
    "colab": {
      "name": "Image Classification.ipynb",
      "provenance": [],
      "authorship_tag": "ABX9TyOFjdeCQeILiXcbYzP0EEyz",
      "include_colab_link": true
    },
    "kernelspec": {
      "name": "python3",
      "display_name": "Python 3"
    },
    "language_info": {
      "name": "python"
    }
  },
  "cells": [
    {
      "cell_type": "markdown",
      "metadata": {
        "id": "view-in-github",
        "colab_type": "text"
      },
      "source": [
        "<a href=\"https://colab.research.google.com/github/Hemanth9336/Image-Classification/blob/main/Image_Classification.ipynb\" target=\"_parent\"><img src=\"https://colab.research.google.com/assets/colab-badge.svg\" alt=\"Open In Colab\"/></a>"
      ]
    },
    {
      "cell_type": "code",
      "metadata": {
        "colab": {
          "base_uri": "https://localhost:8080/"
        },
        "id": "DPgPMVnK8HQQ",
        "outputId": "d7409fec-6a49-4bbf-800b-c63e06520d16"
      },
      "source": [
        "!pip install ipython-autotime\n",
        "%load_ext autotime"
      ],
      "execution_count": 1,
      "outputs": [
        {
          "output_type": "stream",
          "name": "stdout",
          "text": [
            "Collecting ipython-autotime\n",
            "  Downloading ipython_autotime-0.3.1-py2.py3-none-any.whl (6.8 kB)\n",
            "Requirement already satisfied: ipython in /usr/local/lib/python3.7/dist-packages (from ipython-autotime) (5.5.0)\n",
            "Requirement already satisfied: pexpect in /usr/local/lib/python3.7/dist-packages (from ipython->ipython-autotime) (4.8.0)\n",
            "Requirement already satisfied: pickleshare in /usr/local/lib/python3.7/dist-packages (from ipython->ipython-autotime) (0.7.5)\n",
            "Requirement already satisfied: traitlets>=4.2 in /usr/local/lib/python3.7/dist-packages (from ipython->ipython-autotime) (5.0.5)\n",
            "Requirement already satisfied: decorator in /usr/local/lib/python3.7/dist-packages (from ipython->ipython-autotime) (4.4.2)\n",
            "Requirement already satisfied: prompt-toolkit<2.0.0,>=1.0.4 in /usr/local/lib/python3.7/dist-packages (from ipython->ipython-autotime) (1.0.18)\n",
            "Requirement already satisfied: setuptools>=18.5 in /usr/local/lib/python3.7/dist-packages (from ipython->ipython-autotime) (57.4.0)\n",
            "Requirement already satisfied: pygments in /usr/local/lib/python3.7/dist-packages (from ipython->ipython-autotime) (2.6.1)\n",
            "Requirement already satisfied: simplegeneric>0.8 in /usr/local/lib/python3.7/dist-packages (from ipython->ipython-autotime) (0.8.1)\n",
            "Requirement already satisfied: wcwidth in /usr/local/lib/python3.7/dist-packages (from prompt-toolkit<2.0.0,>=1.0.4->ipython->ipython-autotime) (0.2.5)\n",
            "Requirement already satisfied: six>=1.9.0 in /usr/local/lib/python3.7/dist-packages (from prompt-toolkit<2.0.0,>=1.0.4->ipython->ipython-autotime) (1.15.0)\n",
            "Requirement already satisfied: ipython-genutils in /usr/local/lib/python3.7/dist-packages (from traitlets>=4.2->ipython->ipython-autotime) (0.2.0)\n",
            "Requirement already satisfied: ptyprocess>=0.5 in /usr/local/lib/python3.7/dist-packages (from pexpect->ipython->ipython-autotime) (0.7.0)\n",
            "Installing collected packages: ipython-autotime\n",
            "Successfully installed ipython-autotime-0.3.1\n",
            "time: 2.68 ms (started: 2021-09-06 15:28:14 +00:00)\n"
          ]
        }
      ]
    },
    {
      "cell_type": "code",
      "metadata": {
        "colab": {
          "base_uri": "https://localhost:8080/"
        },
        "id": "HZR_SSCY21g0",
        "outputId": "10650c29-f750-49ea-f7bc-4c22b015322a"
      },
      "source": [
        "!pip install bing-image-downloader"
      ],
      "execution_count": 2,
      "outputs": [
        {
          "output_type": "stream",
          "name": "stdout",
          "text": [
            "Collecting bing-image-downloader\n",
            "  Downloading bing_image_downloader-1.1.1-py3-none-any.whl (5.7 kB)\n",
            "Installing collected packages: bing-image-downloader\n",
            "Successfully installed bing-image-downloader-1.1.1\n",
            "time: 3.14 s (started: 2021-09-06 15:28:14 +00:00)\n"
          ]
        }
      ]
    },
    {
      "cell_type": "code",
      "metadata": {
        "id": "WCM3qq7r3TZo",
        "colab": {
          "base_uri": "https://localhost:8080/"
        },
        "outputId": "1b87f32c-0b2f-4527-c708-5d68e27cc19b"
      },
      "source": [
        "!mkdir images"
      ],
      "execution_count": 3,
      "outputs": [
        {
          "output_type": "stream",
          "name": "stdout",
          "text": [
            "time: 119 ms (started: 2021-09-06 15:28:17 +00:00)\n"
          ]
        }
      ]
    },
    {
      "cell_type": "code",
      "metadata": {
        "colab": {
          "base_uri": "https://localhost:8080/"
        },
        "id": "EXNdj52r3XFq",
        "outputId": "5dba2f41-f686-4608-84e1-b8192b823cc4"
      },
      "source": [
        "from bing_image_downloader import downloader\n",
        "downloader.download(\"dog\",limit = 30,output_dir='images',adult_filter_off=True)"
      ],
      "execution_count": 4,
      "outputs": [
        {
          "output_type": "stream",
          "name": "stdout",
          "text": [
            "[%] Downloading Images to /content/images/dog\n",
            "\n",
            "\n",
            "[!!]Indexing page: 1\n",
            "\n",
            "[%] Indexed 30 Images on Page 1.\n",
            "\n",
            "===============================================\n",
            "\n",
            "[%] Downloading Image #1 from https://www.reddogwa.com/yahoo_site_admin/assets/images/red-dog--true-blue-2016-large-cover.169221152_large.jpg\n",
            "[%] File Downloaded !\n",
            "\n",
            "[%] Downloading Image #2 from https://3.bp.blogspot.com/-4UbsQDomC-M/WG88ZNppdLI/AAAAAAAACF0/1Ft3OpVpOL0hKZegozv7S-bVlt4C0IhXgCLcB/w1200-h630-p-k-no-nu/Red_Dog_True_Blue_poster2.jpg\n",
            "[%] File Downloaded !\n",
            "\n",
            "[%] Downloading Image #3 from https://www.vpro.nl/.imaging/stk/vpronl/opengraph/dam/cinema/13/09/37/image_13093712.jpeg/jcr:content/image_13093712.jpeg\n",
            "[%] File Downloaded !\n",
            "\n",
            "[%] Downloading Image #4 from https://i1.wp.com/janksreviews.com/wp-content/uploads/2016/12/red-dog-1.jpg?fit=1000%2C563\n",
            "[%] File Downloaded !\n",
            "\n",
            "[%] Downloading Image #5 from https://www.dvdsreleasedates.com/posters/800/R/Red-Dog-True-Blue-2016-movie-poster.jpg\n",
            "[%] File Downloaded !\n",
            "\n",
            "[%] Downloading Image #6 from https://stack.com.au/wp-content/uploads/2016/09/Red_Dog_True_Blue.jpg\n",
            "[%] File Downloaded !\n",
            "\n",
            "[%] Downloading Image #7 from https://cinemaindoxxi.net/wp-content/uploads/2018/07/red-dog-true-blue-banner.jpg\n",
            "[%] File Downloaded !\n",
            "\n",
            "[%] Downloading Image #8 from http://reddogwa.com/yahoo_site_admin/assets/images/Phoenix.169221105_large.jpg\n",
            "[%] File Downloaded !\n",
            "\n",
            "[%] Downloading Image #9 from http://www.thereelbits.com/wp-content/uploads/2016/09/reddogtrueblue001f.jpg\n",
            "[%] File Downloaded !\n",
            "\n",
            "[%] Downloading Image #10 from https://d1mm3624z6jafc.cloudfront.net/movies/posters/Red_Dog_True_Blue_700x1000_LR.jpg?v=12&amp;width=1600&amp;height=900&amp;scale=both&amp;mode=crop\n",
            "[%] File Downloaded !\n",
            "\n",
            "[%] Downloading Image #11 from http://schoolmum.net/wp-content/uploads/2016/12/RedDog-TrueBlue-FULL.jpg\n",
            "[%] File Downloaded !\n",
            "\n",
            "[%] Downloading Image #12 from https://www.shanethegamer.com/wp-content/uploads/2016/12/Red-Dog-True-Blue.jpg\n",
            "[%] File Downloaded !\n",
            "\n",
            "[%] Downloading Image #13 from https://i.ytimg.com/vi/34yF2odGSTw/maxresdefault.jpg\n",
            "[%] File Downloaded !\n",
            "\n",
            "[%] Downloading Image #14 from http://www.thebookthefilmthetshirt.co.uk/wp-content/uploads/2016/09/FeatureRed-Dog-True-Blue.gif\n",
            "[%] File Downloaded !\n",
            "\n",
            "[%] Downloading Image #15 from https://www.covercity.net/displaycover/medium/9f56812da4998ee565bcab2b200365d7\n",
            "[%] File Downloaded !\n",
            "\n",
            "[%] Downloading Image #16 from https://i.ytimg.com/vi/Pc1ms7EG7UE/maxresdefault.jpg\n",
            "[%] File Downloaded !\n",
            "\n",
            "[%] Downloading Image #17 from https://cdn.traileraddict.com/content/roadshow-films/red-dog-true-blue.jpg\n",
            "[%] File Downloaded !\n",
            "\n",
            "[%] Downloading Image #18 from https://media.senscritique.com/media/000017813480/1200/Red_Dog_True_Blue.jpg\n",
            "[%] File Downloaded !\n",
            "\n",
            "[%] Downloading Image #19 from http://media.kics.com.au/8VzX8g3-bEaueKnGSP5cPA.jpg\n",
            "[%] File Downloaded !\n",
            "\n",
            "[%] Downloading Image #20 from https://i.ytimg.com/vi/uhyqYC4Z6tQ/maxresdefault.jpg\n",
            "[%] File Downloaded !\n",
            "\n",
            "[%] Downloading Image #21 from https://thereelbits.com/wp-content/uploads/2016/12/red-dog-true-blue005f.jpg\n",
            "[%] File Downloaded !\n",
            "\n",
            "[%] Downloading Image #22 from https://www.dvdsreleasedates.com/covers/red-dog-true-blue-dvd-cover-12.jpg\n",
            "[%] File Downloaded !\n",
            "\n",
            "[%] Downloading Image #23 from https://www.screenaustralia.gov.au/sacms/media/samedialibrary/screenguide/titles/tid33202-red-dog-true-blue/tid33202-web/tid33202-red-dog-true-blue-001-hero.jpg\n",
            "[Error]Invalid image, not saving https://www.screenaustralia.gov.au/sacms/media/samedialibrary/screenguide/titles/tid33202-red-dog-true-blue/tid33202-web/tid33202-red-dog-true-blue-001-hero.jpg\n",
            "\n",
            "[!] Issue getting: https://www.screenaustralia.gov.au/sacms/media/samedialibrary/screenguide/titles/tid33202-red-dog-true-blue/tid33202-web/tid33202-red-dog-true-blue-001-hero.jpg\n",
            "[!] Error:: Invalid image, not saving https://www.screenaustralia.gov.au/sacms/media/samedialibrary/screenguide/titles/tid33202-red-dog-true-blue/tid33202-web/tid33202-red-dog-true-blue-001-hero.jpg\n",
            "\n",
            "[%] Downloading Image #23 from https://assets.mubicdn.net/images/film/155689/image-w856.jpg?1471008654\n",
            "[%] File Downloaded !\n",
            "\n",
            "[%] Downloading Image #24 from https://www.tripsavvy.com/thmb/7TpE8D8E_9qb1JnUwqE_RN2OOiY=/800x540/filters:fill(auto,1)/red-dog-56a37adc3df78cf7727d953a.jpg\n",
            "[%] File Downloaded !\n",
            "\n",
            "[%] Downloading Image #25 from https://cdn.newsapi.com.au/image/v1/098fe707e818d4d04deb0e27af7186bd?width=650\n",
            "[%] File Downloaded !\n",
            "\n",
            "[%] Downloading Image #26 from http://cdn.newsapi.com.au/image/v1/ccd75338b3ca3962c87557da98def35a?width=1024\n",
            "[%] File Downloaded !\n",
            "\n",
            "[%] Downloading Image #27 from http://www.heyuguys.com/images/2017/02/201715660_3.jpg\n",
            "[%] File Downloaded !\n",
            "\n",
            "[%] Downloading Image #28 from http://www.screenwest.com.au/wp-content/uploads/2016/12/RED-DOG-2-LR-01512.jpg.jpg\n",
            "[%] File Downloaded !\n",
            "\n",
            "[%] Downloading Image #29 from https://i.ytimg.com/vi/gks3Wymt18o/maxresdefault.jpg\n",
            "[%] File Downloaded !\n",
            "\n",
            "\n",
            "\n",
            "[!!]Indexing page: 2\n",
            "\n",
            "[%] Indexed 35 Images on Page 2.\n",
            "\n",
            "===============================================\n",
            "\n",
            "[%] Downloading Image #30 from https://www.reddogwa.com/yahoo_site_admin/assets/images/red-dog--true-blue-2016-large-cover.169221152_large.jpg\n",
            "[%] File Downloaded !\n",
            "\n",
            "\n",
            "\n",
            "[%] Done. Downloaded 30 images.\n",
            "===============================================\n",
            "\n",
            "Please show your support here\n",
            "https://www.buymeacoffee.com/gurugaurav\n",
            "\n",
            "===============================================\n",
            "\n",
            "time: 34.4 s (started: 2021-09-06 15:28:18 +00:00)\n"
          ]
        }
      ]
    },
    {
      "cell_type": "code",
      "metadata": {
        "colab": {
          "base_uri": "https://localhost:8080/"
        },
        "id": "0oq0_i144goS",
        "outputId": "c088a5cc-566c-4b90-8bac-3dc4dcc39ae7"
      },
      "source": [
        "from bing_image_downloader import downloader\n",
        "downloader.download(\"lion\",limit = 30,output_dir='images',adult_filter_off=True)"
      ],
      "execution_count": 5,
      "outputs": [
        {
          "output_type": "stream",
          "name": "stdout",
          "text": [
            "[%] Downloading Images to /content/images/lion\n",
            "\n",
            "\n",
            "[!!]Indexing page: 1\n",
            "\n",
            "[%] Indexed 30 Images on Page 1.\n",
            "\n",
            "===============================================\n",
            "\n",
            "[%] Downloading Image #1 from https://i.ytimg.com/vi/_q_uxTIG0-U/maxresdefault.jpg\n",
            "[%] File Downloaded !\n",
            "\n",
            "[%] Downloading Image #2 from http://compassioncircle.com/wp-content/uploads/2011/07/Lion_Lamb2.jpg\n",
            "[%] File Downloaded !\n",
            "\n",
            "[%] Downloading Image #3 from https://nuriakenya.com/wp-content/uploads/2020/11/Zamba-The-True-Story-of-the-Greatest-Lion-That-Ever-Lived-NuriaKenya.jpg\n",
            "[%] File Downloaded !\n",
            "\n",
            "[%] Downloading Image #4 from http://www.folio.co.zw/wp-content/uploads/2020/04/Lion-Rescue-A-True-Story-600x922.jpg\n",
            "[%] File Downloaded !\n",
            "\n",
            "[%] Downloading Image #5 from http://i1.ytimg.com/vi/8xM3cGc1FeE/maxresdefault.jpg\n",
            "[%] File Downloaded !\n",
            "\n",
            "[%] Downloading Image #6 from http://media-cache-ak0.pinimg.com/736x/d6/31/b2/d631b20d420dbab4162ef117b0c2d05b.jpg\n",
            "[%] File Downloaded !\n",
            "\n",
            "[%] Downloading Image #7 from http://1.bp.blogspot.com/-WeQqykyLQJE/UOFwCsUW4JI/AAAAAAAAEmY/aPSDjWS111E/s1600/African-Lion.jpg\n",
            "[%] File Downloaded !\n",
            "\n",
            "[%] Downloading Image #8 from http://www.heresthejoy.com/wp-content/uploads/2018/03/lion-roaring-1024x962.jpg\n",
            "[%] File Downloaded !\n",
            "\n",
            "[%] Downloading Image #9 from https://i.ytimg.com/vi/sPrmgPmyQcc/maxresdefault.jpg\n",
            "[%] File Downloaded !\n",
            "\n",
            "[%] Downloading Image #10 from https://i.pinimg.com/originals/b6/92/2a/b6922ae3ee885b4065db724a5a61f17f.jpg\n",
            "[%] File Downloaded !\n",
            "\n",
            "[%] Downloading Image #11 from http://bigcatrescue.org/wp-content/uploads/2020/05/lion-white-tiger-true-love-scaled.jpg\n",
            "[%] File Downloaded !\n",
            "\n",
            "[%] Downloading Image #12 from https://lh4.googleusercontent.com/-_QlTF_0rWGE/TXBkC84wnUI/AAAAAAAABas/Ri8avg79H80/s1600/lion.jpg\n",
            "[%] File Downloaded !\n",
            "\n",
            "[%] Downloading Image #13 from https://i.pinimg.com/736x/1b/9d/68/1b9d680ca838227253a2390a92d68a67--baby-animals-wild-animals.jpg\n",
            "[%] File Downloaded !\n",
            "\n",
            "[%] Downloading Image #14 from https://saltdevils.com/wp-content/uploads/2021/01/true-king-lion.png\n",
            "[%] File Downloaded !\n",
            "\n",
            "[%] Downloading Image #15 from https://lh6.googleusercontent.com/-UOBpKpep0WQ/TXBj_6vaLUI/AAAAAAAABak/FE-4L-R5uys/s1600/beautiful_lion_wallpaper.jpg\n",
            "[%] File Downloaded !\n",
            "\n",
            "[%] Downloading Image #16 from https://thisissollie.files.wordpress.com/2017/02/my-lion-film-review-dev-patel-sollie-film-tv-reviews.jpg\n",
            "[%] File Downloaded !\n",
            "\n",
            "[%] Downloading Image #17 from https://img00.deviantart.net/722f/i/2014/262/4/7/lebron_james__the_true_lion__wallpaper_by_ammsdesings-d7zs4wg.jpg\n",
            "[%] File Downloaded !\n",
            "\n",
            "[%] Downloading Image #18 from https://i.ytimg.com/vi/Z14kW19zexI/maxresdefault.jpg\n",
            "[%] File Downloaded !\n",
            "\n",
            "[%] Downloading Image #19 from https://www.artflakes.com/artwork/products/2178163/zoom/new-camera-4.jpg?1540659884\n",
            "[%] File Downloaded !\n",
            "\n",
            "[%] Downloading Image #20 from https://dianshirts.com/wp-content/uploads/2019/07/The-Lion-True-King-Simba-King-Of-All-Kind-Animal-shirt-4.jpg\n",
            "[%] File Downloaded !\n",
            "\n",
            "[%] Downloading Image #21 from https://d3avoj45mekucs.cloudfront.net/rojakdaily/media/jessica-chua/entertainment/2019/july/the lion king review/main-thelionking.jpg?ext=.jpg\n",
            "[!] Issue getting: https://d3avoj45mekucs.cloudfront.net/rojakdaily/media/jessica-chua/entertainment/2019/july/the lion king review/main-thelionking.jpg?ext=.jpg\n",
            "[!] Error:: URL can't contain control characters. '/rojakdaily/media/jessica-chua/entertainment/2019/july/the lion king review/main-thelionking.jpg?ext=.jpg' (found at least ' ')\n",
            "[%] Downloading Image #21 from https://chronicle.durhamcollege.ca/wp-content/uploads/2017/01/lion-movie-poster-dev-patel-696x1031.jpeg\n",
            "[%] File Downloaded !\n",
            "\n",
            "[%] Downloading Image #22 from https://i.pinimg.com/originals/df/ad/c2/dfadc29d83e214226f6acceab5cdf3b2.jpg\n",
            "[%] File Downloaded !\n",
            "\n",
            "[%] Downloading Image #23 from https://i0.wp.com/shortnsweetmoviereviews.com/wp-content/uploads/2016/12/lion-5.jpg?fit=1101%2C733\n",
            "[%] File Downloaded !\n",
            "\n",
            "[%] Downloading Image #24 from http://sarcasm.co/wp-content/uploads/2018/02/emgn-lion-king-21.jpg\n",
            "[%] File Downloaded !\n",
            "\n",
            "[%] Downloading Image #25 from https://i2.wp.com/www.filminquiry.com/wp-content/uploads/2017/02/lion1050.jpg?fit=740%2C493&amp;ssl=1\n",
            "[%] File Downloaded !\n",
            "\n",
            "[%] Downloading Image #26 from https://dubaiweek.ae/wp-content/uploads/2016/12/Lion_MarkRogers-1845-Edit-1024x683.jpg\n",
            "[Error]Invalid image, not saving https://dubaiweek.ae/wp-content/uploads/2016/12/Lion_MarkRogers-1845-Edit-1024x683.jpg\n",
            "\n",
            "[!] Issue getting: https://dubaiweek.ae/wp-content/uploads/2016/12/Lion_MarkRogers-1845-Edit-1024x683.jpg\n",
            "[!] Error:: Invalid image, not saving https://dubaiweek.ae/wp-content/uploads/2016/12/Lion_MarkRogers-1845-Edit-1024x683.jpg\n",
            "\n",
            "[%] Downloading Image #26 from https://i.pinimg.com/originals/36/15/8e/36158eae752ca8cba44068663b61031b.jpg\n",
            "[%] File Downloaded !\n",
            "\n",
            "[%] Downloading Image #27 from https://i.pinimg.com/originals/eb/04/45/eb0445db7bd72e31c8881bc97b1906c8.jpg\n",
            "[%] File Downloaded !\n",
            "\n",
            "[%] Downloading Image #28 from https://resources.stuff.co.nz/content/dam/images/1/g/r/b/4/x/image.related.StuffLandscapeSixteenByNine.1420x800.1grb3a.png/1484939091170.jpg\n",
            "[%] File Downloaded !\n",
            "\n",
            "\n",
            "\n",
            "[!!]Indexing page: 2\n",
            "\n",
            "[%] Indexed 35 Images on Page 2.\n",
            "\n",
            "===============================================\n",
            "\n",
            "[%] Downloading Image #29 from https://i.ytimg.com/vi/_q_uxTIG0-U/maxresdefault.jpg\n",
            "[%] File Downloaded !\n",
            "\n",
            "[%] Downloading Image #30 from http://compassioncircle.com/wp-content/uploads/2011/07/Lion_Lamb2.jpg\n",
            "[%] File Downloaded !\n",
            "\n",
            "\n",
            "\n",
            "[%] Done. Downloaded 30 images.\n",
            "===============================================\n",
            "\n",
            "Please show your support here\n",
            "https://www.buymeacoffee.com/gurugaurav\n",
            "\n",
            "===============================================\n",
            "\n",
            "time: 14.5 s (started: 2021-09-06 15:28:52 +00:00)\n"
          ]
        }
      ]
    },
    {
      "cell_type": "code",
      "metadata": {
        "colab": {
          "base_uri": "https://localhost:8080/"
        },
        "id": "AZJpSYHl8mZ8",
        "outputId": "75ed10c5-fd5f-4f19-c107-f8ca2080b520"
      },
      "source": [
        "#Preprocessing\n",
        "\n",
        "import os\n",
        "import matplotlib.pyplot as plt\n",
        "import numpy as np\n",
        "from skimage.io import imread\n",
        "from skimage.transform import resize\n",
        "\n",
        "target = []\n",
        "images = []\n",
        "flat_data = []\n",
        "\n",
        "DATADIR = '/content/images'\n",
        "CATEGORIES = ['dog','lion']\n",
        "\n",
        "for category in CATEGORIES:\n",
        "  class_num = CATEGORIES.index(category)\n",
        "  path = os.path.join(DATADIR,category)\n",
        "  for img in os.listdir(path):\n",
        "    img_array = imread(os.path.join(path,img))\n",
        "    #print(img_array.shape)\n",
        "    #plt.imshow(img_array)\n",
        "    img_resized = resize(img_array,(150,150,3))\n",
        "    flat_data.append(img_resized.flatten())\n",
        "    images.append(img_resized)\n",
        "    target.append(class_num)\n",
        "\n",
        "flat_data = np.array(flat_data)\n",
        "target = np.array(target)\n",
        "images = np.array(images)"
      ],
      "execution_count": 6,
      "outputs": [
        {
          "output_type": "stream",
          "name": "stdout",
          "text": [
            "time: 21 s (started: 2021-09-06 15:29:06 +00:00)\n"
          ]
        }
      ]
    },
    {
      "cell_type": "code",
      "metadata": {
        "id": "F-N5ddmE-Acp",
        "colab": {
          "base_uri": "https://localhost:8080/"
        },
        "outputId": "919073cd-4e22-4b64-f5b1-2203f2f0e112"
      },
      "source": [
        "flat_data"
      ],
      "execution_count": 7,
      "outputs": [
        {
          "output_type": "execute_result",
          "data": {
            "text/plain": [
              "array([[0.99215686, 0.99215686, 0.99215686, ..., 0.74448662, 0.72196078,\n",
              "        0.71783007],\n",
              "       [0.00784314, 0.        , 0.00392157, ..., 0.0745098 , 0.06960784,\n",
              "        0.09411765],\n",
              "       [0.36078431, 0.28333333, 0.24019608, ..., 0.56666667, 0.41764706,\n",
              "        0.34705882],\n",
              "       ...,\n",
              "       [0.19270588, 0.2627451 , 0.00784314, ..., 0.        , 0.32156863,\n",
              "        0.        ],\n",
              "       [0.45686275, 0.37254902, 0.26470588, ..., 0.31372549, 0.22745098,\n",
              "        0.14313725],\n",
              "       [0.69411765, 0.69803922, 0.71372549, ..., 0.67766885, 0.68943355,\n",
              "        0.71030501]])"
            ]
          },
          "metadata": {},
          "execution_count": 7
        },
        {
          "output_type": "stream",
          "name": "stdout",
          "text": [
            "time: 6.63 ms (started: 2021-09-06 15:29:27 +00:00)\n"
          ]
        }
      ]
    },
    {
      "cell_type": "code",
      "metadata": {
        "colab": {
          "base_uri": "https://localhost:8080/"
        },
        "id": "VYx7zUcGMjL-",
        "outputId": "0714de89-e333-409c-ca11-b96edf05e536"
      },
      "source": [
        "target"
      ],
      "execution_count": 8,
      "outputs": [
        {
          "output_type": "execute_result",
          "data": {
            "text/plain": [
              "array([0, 0, 0, 0, 0, 0, 0, 0, 0, 0, 0, 0, 0, 0, 0, 0, 0, 0, 0, 0, 0, 0,\n",
              "       0, 0, 0, 0, 0, 0, 0, 0, 1, 1, 1, 1, 1, 1, 1, 1, 1, 1, 1, 1, 1, 1,\n",
              "       1, 1, 1, 1, 1, 1, 1, 1, 1, 1, 1, 1, 1, 1, 1, 1])"
            ]
          },
          "metadata": {},
          "execution_count": 8
        },
        {
          "output_type": "stream",
          "name": "stdout",
          "text": [
            "time: 4.68 ms (started: 2021-09-06 15:29:27 +00:00)\n"
          ]
        }
      ]
    },
    {
      "cell_type": "code",
      "metadata": {
        "colab": {
          "base_uri": "https://localhost:8080/",
          "height": 298
        },
        "id": "8bj2aNTxM6Zs",
        "outputId": "ceef1571-f253-46dc-d713-aebcad13712f"
      },
      "source": [
        "unique,count = np.unique(target,return_counts=True)\n",
        "plt.bar(CATEGORIES,count)"
      ],
      "execution_count": 9,
      "outputs": [
        {
          "output_type": "execute_result",
          "data": {
            "text/plain": [
              "<BarContainer object of 2 artists>"
            ]
          },
          "metadata": {},
          "execution_count": 9
        },
        {
          "output_type": "display_data",
          "data": {
            "image/png": "[encoded data removed]",
            "text/plain": [
              "<Figure size 432x288 with 1 Axes>"
            ]
          },
          "metadata": {
            "needs_background": "light"
          }
        },
        {
          "output_type": "stream",
          "name": "stdout",
          "text": [
            "time: 198 ms (started: 2021-09-06 15:29:27 +00:00)\n"
          ]
        }
      ]
    },
    {
      "cell_type": "code",
      "metadata": {
        "colab": {
          "base_uri": "https://localhost:8080/"
        },
        "id": "RGP-DCh0NCrY",
        "outputId": "4b7e6298-649f-409e-d914-a8813932b339"
      },
      "source": [
        "from sklearn.model_selection import train_test_split\n",
        "x_train,x_test,y_train,y_test = train_test_split(flat_data,target,test_size=0.3,random_state=102)"
      ],
      "execution_count": 10,
      "outputs": [
        {
          "output_type": "stream",
          "name": "stdout",
          "text": [
            "time: 209 ms (started: 2021-09-06 15:29:28 +00:00)\n"
          ]
        }
      ]
    },
    {
      "cell_type": "code",
      "metadata": {
        "colab": {
          "base_uri": "https://localhost:8080/"
        },
        "id": "RvyzhgRXOHpg",
        "outputId": "a2975156-53dd-48dc-d2af-a9c54b188599"
      },
      "source": [
        "from sklearn.model_selection import GridSearchCV\n",
        "from sklearn import svm\n",
        "param_grid = [\n",
        "              {'C':[1,10,100,1000],'kernel':['linear']},\n",
        "              {'C':[1,10,100,1000],'gamma':[0.001,0.0001],'kernel':['rbf']},\n",
        "]\n",
        "\n",
        "svc = svm.SVC(probability=True)\n",
        "clf = GridSearchCV(svc,param_grid)\n",
        "clf.fit(x_train,y_train)"
      ],
      "execution_count": 11,
      "outputs": [
        {
          "output_type": "execute_result",
          "data": {
            "text/plain": [
              "GridSearchCV(cv=None, error_score=nan,\n",
              "             estimator=SVC(C=1.0, break_ties=False, cache_size=200,\n",
              "                           class_weight=None, coef0=0.0,\n",
              "                           decision_function_shape='ovr', degree=3,\n",
              "                           gamma='scale', kernel='rbf', max_iter=-1,\n",
              "                           probability=True, random_state=None, shrinking=True,\n",
              "                           tol=0.001, verbose=False),\n",
              "             iid='deprecated', n_jobs=None,\n",
              "             param_grid=[{'C': [1, 10, 100, 1000], 'kernel': ['linear']},\n",
              "                         {'C': [1, 10, 100, 1000], 'gamma': [0.001, 0.0001],\n",
              "                          'kernel': ['rbf']}],\n",
              "             pre_dispatch='2*n_jobs', refit=True, return_train_score=False,\n",
              "             scoring=None, verbose=0)"
            ]
          },
          "metadata": {},
          "execution_count": 11
        },
        {
          "output_type": "stream",
          "name": "stdout",
          "text": [
            "time: 41.6 s (started: 2021-09-06 15:29:28 +00:00)\n"
          ]
        }
      ]
    },
    {
      "cell_type": "code",
      "metadata": {
        "colab": {
          "base_uri": "https://localhost:8080/"
        },
        "id": "NuP9qWkKP7Ww",
        "outputId": "2b82a298-e83f-417d-f06f-2a3ca29ce3dc"
      },
      "source": [
        "y_pred = clf.predict(x_test)\n",
        "y_pred"
      ],
      "execution_count": 12,
      "outputs": [
        {
          "output_type": "execute_result",
          "data": {
            "text/plain": [
              "array([0, 0, 1, 1, 1, 1, 0, 0, 1, 0, 0, 1, 1, 1, 0, 0, 1, 1])"
            ]
          },
          "metadata": {},
          "execution_count": 12
        },
        {
          "output_type": "stream",
          "name": "stdout",
          "text": [
            "time: 79 ms (started: 2021-09-06 15:30:10 +00:00)\n"
          ]
        }
      ]
    },
    {
      "cell_type": "code",
      "metadata": {
        "colab": {
          "base_uri": "https://localhost:8080/"
        },
        "id": "4EKQuJklSsIK",
        "outputId": "8e30373f-8d6e-4925-cdcb-72fcb7969144"
      },
      "source": [
        "y_test"
      ],
      "execution_count": 13,
      "outputs": [
        {
          "output_type": "execute_result",
          "data": {
            "text/plain": [
              "array([0, 0, 1, 1, 0, 1, 0, 1, 0, 0, 0, 0, 1, 1, 1, 0, 0, 0])"
            ]
          },
          "metadata": {},
          "execution_count": 13
        },
        {
          "output_type": "stream",
          "name": "stdout",
          "text": [
            "time: 3.5 ms (started: 2021-09-06 15:30:10 +00:00)\n"
          ]
        }
      ]
    },
    {
      "cell_type": "code",
      "metadata": {
        "colab": {
          "base_uri": "https://localhost:8080/"
        },
        "id": "N_fWSxCOSuD5",
        "outputId": "1db88b5e-3eab-4677-ff7b-e43b80fd4668"
      },
      "source": [
        "from sklearn.metrics import accuracy_score,confusion_matrix"
      ],
      "execution_count": 14,
      "outputs": [
        {
          "output_type": "stream",
          "name": "stdout",
          "text": [
            "time: 1.2 ms (started: 2021-09-06 15:30:10 +00:00)\n"
          ]
        }
      ]
    },
    {
      "cell_type": "code",
      "metadata": {
        "colab": {
          "base_uri": "https://localhost:8080/"
        },
        "id": "ImMTWyapS50W",
        "outputId": "c431aca6-94eb-4d1c-b6cf-e87a1702e4b1"
      },
      "source": [
        "accuracy_score(y_pred,y_test)"
      ],
      "execution_count": 15,
      "outputs": [
        {
          "output_type": "execute_result",
          "data": {
            "text/plain": [
              "0.6111111111111112"
            ]
          },
          "metadata": {},
          "execution_count": 15
        },
        {
          "output_type": "stream",
          "name": "stdout",
          "text": [
            "time: 4.17 ms (started: 2021-09-06 15:30:10 +00:00)\n"
          ]
        }
      ]
    },
    {
      "cell_type": "code",
      "metadata": {
        "colab": {
          "base_uri": "https://localhost:8080/"
        },
        "id": "peRshgDFS_AP",
        "outputId": "90771999-34e0-4054-83ce-655437d36d60"
      },
      "source": [
        "confusion_matrix(y_pred,y_test)"
      ],
      "execution_count": 16,
      "outputs": [
        {
          "output_type": "execute_result",
          "data": {
            "text/plain": [
              "array([[6, 2],\n",
              "       [5, 5]])"
            ]
          },
          "metadata": {},
          "execution_count": 16
        },
        {
          "output_type": "stream",
          "name": "stdout",
          "text": [
            "time: 10.3 ms (started: 2021-09-06 15:30:10 +00:00)\n"
          ]
        }
      ]
    },
    {
      "cell_type": "code",
      "metadata": {
        "colab": {
          "base_uri": "https://localhost:8080/"
        },
        "id": "GNqH5VxXTIvo",
        "outputId": "b8214f2a-2387-433b-b3f7-e5fc1a13bf06"
      },
      "source": [
        "import pickle\n",
        "pickle.dump(clf,open('img_model.p','wb'))"
      ],
      "execution_count": 17,
      "outputs": [
        {
          "output_type": "stream",
          "name": "stdout",
          "text": [
            "time: 29.1 ms (started: 2021-09-06 15:30:10 +00:00)\n"
          ]
        }
      ]
    },
    {
      "cell_type": "code",
      "metadata": {
        "colab": {
          "base_uri": "https://localhost:8080/"
        },
        "id": "OMOUtQNYTePf",
        "outputId": "d57fdee9-4996-4203-96c6-558343d19983"
      },
      "source": [
        "model = pickle.load(open('img_model.p','rb'))"
      ],
      "execution_count": 18,
      "outputs": [
        {
          "output_type": "stream",
          "name": "stdout",
          "text": [
            "time: 15.6 ms (started: 2021-09-06 15:30:10 +00:00)\n"
          ]
        }
      ]
    },
    {
      "cell_type": "code",
      "metadata": {
        "id": "u1JdgElnTt3_",
        "colab": {
          "base_uri": "https://localhost:8080/",
          "height": 336
        },
        "outputId": "9752952a-51fc-4fb0-e4af-d952bbc2f494"
      },
      "source": [
        "flat_data = []\n",
        "url = input('Enter your URL')\n",
        "img = imread(url)\n",
        "img_resized = resize(img,(150,150,3))\n",
        "flat_data.append(img_resized.flatten())\n",
        "flat_data = np.array(flat_data)\n",
        "print(img.shape)\n",
        "plt.imshow(img_resized)\n",
        "y_out = model.predict(flat_data)\n",
        "y_out = CATEGORIES[y_out[0]]\n",
        "print(f' PREDICTED OUTPUT: {y_out}')"
      ],
      "execution_count": 21,
      "outputs": [
        {
          "output_type": "stream",
          "name": "stdout",
          "text": [
            "Enter your URLhttps://hips.hearstapps.com/hmg-prod.s3.amazonaws.com/images/golden-retriever-royalty-free-image-506756303-1560962726.jpg?crop=0.672xw:1.00xh;0.166xw,0&resize=640:*\n",
            "(635, 640, 3)\n",
            " PREDICTED OUTPUT: dog\n"
          ]
        },
        {
          "output_type": "display_data",
          "data": {
            "image/png": "[encoded data removed]",
            "text/plain": [
              "<Figure size 432x288 with 1 Axes>"
            ]
          },
          "metadata": {
            "needs_background": "light"
          }
        },
        {
          "output_type": "stream",
          "name": "stdout",
          "text": [
            "time: 3.3 s (started: 2021-09-06 15:31:28 +00:00)\n"
          ]
        }
      ]
    }
  ]
}