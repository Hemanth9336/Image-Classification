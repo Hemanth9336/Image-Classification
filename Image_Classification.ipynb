{
  "nbformat": 4,
  "nbformat_minor": 0,
  "metadata": {
    "colab": {
      "name": "Image Classification.ipynb",
      "provenance": [],
      "authorship_tag": "ABX9TyPBoMF7fRydNnB7SImSZRtY",
      "include_colab_link": true
    },
    "kernelspec": {
      "name": "python3",
      "display_name": "Python 3"
    },
    "language_info": {
      "name": "python"
    }
  },
  "cells": [
    {
      "cell_type": "markdown",
      "metadata": {
        "id": "view-in-github",
        "colab_type": "text"
      },
      "source": [
        "<a href=\"https://colab.research.google.com/github/Hemanth9336/Image-Classification/blob/main/Image_Classification.ipynb\" target=\"_parent\"><img src=\"https://colab.research.google.com/assets/colab-badge.svg\" alt=\"Open In Colab\"/></a>"
      ]
    },
    {
      "cell_type": "code",
      "metadata": {
        "colab": {
          "base_uri": "https://localhost:8080/"
        },
        "id": "DPgPMVnK8HQQ",
        "outputId": "97144b47-cf34-4dfc-db1e-9bf3d8665623"
      },
      "source": [
        "!pip install ipython-autotime\n",
        "%load_ext autotime"
      ],
      "execution_count": 54,
      "outputs": [
        {
          "output_type": "stream",
          "text": [
            "Requirement already satisfied: ipython-autotime in /usr/local/lib/python3.7/dist-packages (0.3.1)\n",
            "Requirement already satisfied: ipython in /usr/local/lib/python3.7/dist-packages (from ipython-autotime) (7.27.0)\n",
            "Requirement already satisfied: decorator in /usr/local/lib/python3.7/dist-packages (from ipython->ipython-autotime) (4.4.2)\n",
            "Requirement already satisfied: pexpect>4.3 in /usr/local/lib/python3.7/dist-packages (from ipython->ipython-autotime) (4.8.0)\n",
            "Requirement already satisfied: prompt-toolkit!=3.0.0,!=3.0.1,<3.1.0,>=2.0.0 in /usr/local/lib/python3.7/dist-packages (from ipython->ipython-autotime) (3.0.20)\n",
            "Requirement already satisfied: matplotlib-inline in /usr/local/lib/python3.7/dist-packages (from ipython->ipython-autotime) (0.1.2)\n",
            "Requirement already satisfied: backcall in /usr/local/lib/python3.7/dist-packages (from ipython->ipython-autotime) (0.2.0)\n",
            "Requirement already satisfied: pygments in /usr/local/lib/python3.7/dist-packages (from ipython->ipython-autotime) (2.6.1)\n",
            "Requirement already satisfied: jedi>=0.16 in /usr/local/lib/python3.7/dist-packages (from ipython->ipython-autotime) (0.18.0)\n",
            "Requirement already satisfied: pickleshare in /usr/local/lib/python3.7/dist-packages (from ipython->ipython-autotime) (0.7.5)\n",
            "Requirement already satisfied: setuptools>=18.5 in /usr/local/lib/python3.7/dist-packages (from ipython->ipython-autotime) (57.4.0)\n",
            "Requirement already satisfied: traitlets>=4.2 in /usr/local/lib/python3.7/dist-packages (from ipython->ipython-autotime) (5.0.5)\n",
            "Requirement already satisfied: parso<0.9.0,>=0.8.0 in /usr/local/lib/python3.7/dist-packages (from jedi>=0.16->ipython->ipython-autotime) (0.8.2)\n",
            "Requirement already satisfied: ptyprocess>=0.5 in /usr/local/lib/python3.7/dist-packages (from pexpect>4.3->ipython->ipython-autotime) (0.7.0)\n",
            "Requirement already satisfied: wcwidth in /usr/local/lib/python3.7/dist-packages (from prompt-toolkit!=3.0.0,!=3.0.1,<3.1.0,>=2.0.0->ipython->ipython-autotime) (0.2.5)\n",
            "Requirement already satisfied: ipython-genutils in /usr/local/lib/python3.7/dist-packages (from traitlets>=4.2->ipython->ipython-autotime) (0.2.0)\n",
            "The autotime extension is already loaded. To reload it, use:\n",
            "  %reload_ext autotime\n",
            "time: 3.24 s (started: 2021-08-29 07:41:24 +00:00)\n"
          ],
          "name": "stdout"
        }
      ]
    },
    {
      "cell_type": "code",
      "metadata": {
        "colab": {
          "base_uri": "https://localhost:8080/"
        },
        "id": "HZR_SSCY21g0",
        "outputId": "e75925db-a2cd-49b7-d18b-293c117fc50f"
      },
      "source": [
        "!pip install bing-image-downloader"
      ],
      "execution_count": 55,
      "outputs": [
        {
          "output_type": "stream",
          "text": [
            "Requirement already satisfied: bing-image-downloader in /usr/local/lib/python3.7/dist-packages (1.1.1)\n",
            "time: 3.24 s (started: 2021-08-29 07:41:27 +00:00)\n"
          ],
          "name": "stdout"
        }
      ]
    },
    {
      "cell_type": "code",
      "metadata": {
        "id": "WCM3qq7r3TZo",
        "colab": {
          "base_uri": "https://localhost:8080/"
        },
        "outputId": "2df9b2a2-d6df-4632-d7b4-0b19fe005758"
      },
      "source": [
        "!mkdir images"
      ],
      "execution_count": 56,
      "outputs": [
        {
          "output_type": "stream",
          "text": [
            "mkdir: cannot create directory ‘images’: File exists\n",
            "time: 130 ms (started: 2021-08-29 07:41:30 +00:00)\n"
          ],
          "name": "stdout"
        }
      ]
    },
    {
      "cell_type": "code",
      "metadata": {
        "colab": {
          "base_uri": "https://localhost:8080/"
        },
        "id": "EXNdj52r3XFq",
        "outputId": "15b31753-c76e-4b55-dd03-9cee1cdc800a"
      },
      "source": [
        "from bing_image_downloader import downloader\n",
        "downloader.download(\"dog\",limit = 30,output_dir='images',adult_filter_off=True)"
      ],
      "execution_count": 57,
      "outputs": [
        {
          "output_type": "stream",
          "text": [
            "[%] Downloading Images to /content/images/dog\n",
            "\n",
            "\n",
            "[!!]Indexing page: 1\n",
            "\n",
            "[%] Indexed 30 Images on Page 1.\n",
            "\n",
            "===============================================\n",
            "\n",
            "[%] Downloading Image #1 from https://www.reddogwa.com/yahoo_site_admin/assets/images/red-dog--true-blue-2016-large-cover.169221152_large.jpg\n",
            "[%] File Downloaded !\n",
            "\n",
            "[%] Downloading Image #2 from https://i1.wp.com/janksreviews.com/wp-content/uploads/2016/12/red-dog-1.jpg?fit=1000%2C563\n",
            "[%] File Downloaded !\n",
            "\n",
            "[%] Downloading Image #3 from https://www.dvdsreleasedates.com/posters/800/R/Red-Dog-True-Blue-2016-movie-poster.jpg\n",
            "[%] File Downloaded !\n",
            "\n",
            "[%] Downloading Image #4 from http://reddogwa.com/yahoo_site_admin/assets/images/Phoenix.169221105_large.jpg\n",
            "[%] File Downloaded !\n",
            "\n",
            "[%] Downloading Image #5 from https://mrmoviefilmblog.files.wordpress.com/2016/12/red-dog-true-blue-002.jpg?w=1200\n",
            "[%] File Downloaded !\n",
            "\n",
            "[%] Downloading Image #6 from https://d1mm3624z6jafc.cloudfront.net/movies/posters/Red_Dog_True_Blue_700x1000_LR.jpg?v=12&amp;width=1600&amp;height=900&amp;scale=both&amp;mode=crop\n",
            "[%] File Downloaded !\n",
            "\n",
            "[%] Downloading Image #7 from https://www.shanethegamer.com/wp-content/uploads/2016/12/Red-Dog-True-Blue.jpg\n",
            "[%] File Downloaded !\n",
            "\n",
            "[%] Downloading Image #8 from http://www.thebookthefilmthetshirt.co.uk/wp-content/uploads/2016/09/FeatureRed-Dog-True-Blue.gif\n",
            "[%] File Downloaded !\n",
            "\n",
            "[%] Downloading Image #9 from https://upload.wikimedia.org/wikipedia/commons/a/a2/Nelson-Woss.jpg\n",
            "[Error]Invalid image, not saving https://upload.wikimedia.org/wikipedia/commons/a/a2/Nelson-Woss.jpg\n",
            "\n",
            "[!] Issue getting: https://upload.wikimedia.org/wikipedia/commons/a/a2/Nelson-Woss.jpg\n",
            "[!] Error:: Invalid image, not saving https://upload.wikimedia.org/wikipedia/commons/a/a2/Nelson-Woss.jpg\n",
            "\n",
            "[%] Downloading Image #9 from https://cinemaindoxxi.net/wp-content/uploads/2018/07/red-dog-true-blue-banner.jpg\n",
            "[%] File Downloaded !\n",
            "\n",
            "[%] Downloading Image #10 from https://media.senscritique.com/media/000017813480/1200/Red_Dog_True_Blue.jpg\n",
            "[%] File Downloaded !\n",
            "\n",
            "[%] Downloading Image #11 from https://www.screenaustralia.gov.au/sacms/media/samedialibrary/screenguide/titles/tid33202-red-dog-true-blue/tid33202-web/tid33202-red-dog-true-blue-001-hero.jpg\n",
            "[Error]Invalid image, not saving https://www.screenaustralia.gov.au/sacms/media/samedialibrary/screenguide/titles/tid33202-red-dog-true-blue/tid33202-web/tid33202-red-dog-true-blue-001-hero.jpg\n",
            "\n",
            "[!] Issue getting: https://www.screenaustralia.gov.au/sacms/media/samedialibrary/screenguide/titles/tid33202-red-dog-true-blue/tid33202-web/tid33202-red-dog-true-blue-001-hero.jpg\n",
            "[!] Error:: Invalid image, not saving https://www.screenaustralia.gov.au/sacms/media/samedialibrary/screenguide/titles/tid33202-red-dog-true-blue/tid33202-web/tid33202-red-dog-true-blue-001-hero.jpg\n",
            "\n",
            "[%] Downloading Image #11 from https://roadshow.com.au/~/media/images/roadshow/movies/roadshow/2016/red-dog-tb/gallery/gallery3.ashx\n",
            "[Error]Invalid image, not saving https://roadshow.com.au/~/media/images/roadshow/movies/roadshow/2016/red-dog-tb/gallery/gallery3.ashx\n",
            "\n",
            "[!] Issue getting: https://roadshow.com.au/~/media/images/roadshow/movies/roadshow/2016/red-dog-tb/gallery/gallery3.ashx\n",
            "[!] Error:: Invalid image, not saving https://roadshow.com.au/~/media/images/roadshow/movies/roadshow/2016/red-dog-tb/gallery/gallery3.ashx\n",
            "\n",
            "[%] Downloading Image #11 from https://i.pinimg.com/originals/97/07/ff/9707ff702208c5ba394f2de1e490d01c.jpg\n",
            "[%] File Downloaded !\n",
            "\n",
            "[%] Downloading Image #12 from http://www.thereelbits.com/wp-content/uploads/2016/09/reddogtrueblue001f.jpg\n",
            "[%] File Downloaded !\n",
            "\n",
            "[%] Downloading Image #13 from https://i.ytimg.com/vi/Pc1ms7EG7UE/maxresdefault.jpg\n",
            "[%] File Downloaded !\n",
            "\n",
            "[%] Downloading Image #14 from https://week99er.com/wp-content/uploads/2017/11/RedDog_800x800.jpg\n",
            "[%] File Downloaded !\n",
            "\n",
            "[%] Downloading Image #15 from http://www.reddogwa.com/yahoo_site_admin/assets/images/601995.169221507_large.jpg\n",
            "[%] File Downloaded !\n",
            "\n",
            "[%] Downloading Image #16 from http://schoolmum.net/wp-content/uploads/2016/12/RedDog-TrueBlue-FULL.jpg\n",
            "[%] File Downloaded !\n",
            "\n",
            "[%] Downloading Image #17 from https://i.ytimg.com/vi/34yF2odGSTw/maxresdefault.jpg\n",
            "[%] File Downloaded !\n",
            "\n",
            "[%] Downloading Image #18 from https://assets.wagwalkingweb.com/media/original_images/Runaway_Dog_with_Knapsack.png\n",
            "[%] File Downloaded !\n",
            "\n",
            "[%] Downloading Image #19 from https://i.ytimg.com/vi/M2DBzHWdkJU/maxresdefault.jpg\n",
            "[%] File Downloaded !\n",
            "\n",
            "[%] Downloading Image #20 from https://i.ytimg.com/vi/uhyqYC4Z6tQ/maxresdefault.jpg\n",
            "[%] File Downloaded !\n",
            "\n",
            "[%] Downloading Image #21 from https://assets.mubicdn.net/images/film/155689/image-w856.jpg?1471008654\n",
            "[%] File Downloaded !\n",
            "\n",
            "[%] Downloading Image #22 from https://media.movieassets.com/static/images/items/movies/posters/fd7731805b4ef5944e8e3801d33ff65e.jpg\n",
            "[%] File Downloaded !\n",
            "\n",
            "[%] Downloading Image #23 from https://thereelbits.com/wp-content/uploads/2016/12/red-dog-true-blue005f.jpg\n",
            "[%] File Downloaded !\n",
            "\n",
            "[%] Downloading Image #24 from https://week99er.com/wp-content/uploads/2017/11/truedog.jpg\n",
            "[%] File Downloaded !\n",
            "\n",
            "[%] Downloading Image #25 from http://media.kics.com.au/8VzX8g3-bEaueKnGSP5cPA.jpg\n",
            "[%] File Downloaded !\n",
            "\n",
            "[%] Downloading Image #26 from http://www.heyuguys.com/images/2017/02/201715660_3.jpg\n",
            "[%] File Downloaded !\n",
            "\n",
            "[%] Downloading Image #27 from http://www.impulsegamer.com/articles/wp-content/uploads/2016/11/reddog01-620x349.jpg\n",
            "[%] File Downloaded !\n",
            "\n",
            "\n",
            "\n",
            "[!!]Indexing page: 2\n",
            "\n",
            "[%] Indexed 35 Images on Page 2.\n",
            "\n",
            "===============================================\n",
            "\n",
            "[%] Downloading Image #28 from https://www.reddogwa.com/yahoo_site_admin/assets/images/red-dog--true-blue-2016-large-cover.169221152_large.jpg\n",
            "[%] File Downloaded !\n",
            "\n",
            "[%] Downloading Image #29 from https://i1.wp.com/janksreviews.com/wp-content/uploads/2016/12/red-dog-1.jpg?fit=1000%2C563\n",
            "[%] File Downloaded !\n",
            "\n",
            "[%] Downloading Image #30 from https://www.dvdsreleasedates.com/posters/800/R/Red-Dog-True-Blue-2016-movie-poster.jpg\n",
            "[%] File Downloaded !\n",
            "\n",
            "\n",
            "\n",
            "[%] Done. Downloaded 30 images.\n",
            "===============================================\n",
            "\n",
            "Please show your support here\n",
            "https://www.buymeacoffee.com/gurugaurav\n",
            "\n",
            "===============================================\n",
            "\n",
            "time: 34 s (started: 2021-08-29 07:41:31 +00:00)\n"
          ],
          "name": "stdout"
        }
      ]
    },
    {
      "cell_type": "code",
      "metadata": {
        "colab": {
          "base_uri": "https://localhost:8080/"
        },
        "id": "0oq0_i144goS",
        "outputId": "296db72b-e28b-4675-fb95-05fa8afa99a9"
      },
      "source": [
        "from bing_image_downloader import downloader\n",
        "downloader.download(\"lion\",limit = 30,output_dir='images',adult_filter_off=True)"
      ],
      "execution_count": 58,
      "outputs": [
        {
          "output_type": "stream",
          "text": [
            "[%] Downloading Images to /content/images/lion\n",
            "\n",
            "\n",
            "[!!]Indexing page: 1\n",
            "\n",
            "[%] Indexed 30 Images on Page 1.\n",
            "\n",
            "===============================================\n",
            "\n",
            "[%] Downloading Image #1 from http://1.bp.blogspot.com/-WeQqykyLQJE/UOFwCsUW4JI/AAAAAAAAEmY/aPSDjWS111E/s1600/African-Lion.jpg\n",
            "[%] File Downloaded !\n",
            "\n",
            "[%] Downloading Image #2 from http://compassioncircle.com/wp-content/uploads/2011/07/Lion_Lamb2.jpg\n",
            "[%] File Downloaded !\n",
            "\n",
            "[%] Downloading Image #3 from https://i.ytimg.com/vi/_q_uxTIG0-U/maxresdefault.jpg\n",
            "[%] File Downloaded !\n",
            "\n",
            "[%] Downloading Image #4 from https://i1.treknature.com/photos/11474/dsc_0774b.jpg\n",
            "[%] File Downloaded !\n",
            "\n",
            "[%] Downloading Image #5 from https://i.pinimg.com/originals/ae/67/66/ae67661bfdc55bece8ffb29efdf4d469.jpg\n",
            "[%] File Downloaded !\n",
            "\n",
            "[%] Downloading Image #6 from https://i.pinimg.com/originals/2c/40/7c/2c407ca75acaf99463bf1dcf80f984bf.jpg\n",
            "[%] File Downloaded !\n",
            "\n",
            "[%] Downloading Image #7 from https://i.pinimg.com/originals/6e/0c/34/6e0c34456bbb191c9f8c2d578019f883.jpg\n",
            "[%] File Downloaded !\n",
            "\n",
            "[%] Downloading Image #8 from https://i.pinimg.com/736x/97/4f/66/974f6679b6787dc4074cba04ba9238f7.jpg\n",
            "[%] File Downloaded !\n",
            "\n",
            "[%] Downloading Image #9 from https://www.nyrealestatelawblog.com/images/blog/lion_kenya_copyrighted_2012_all_rights_reserved_photo_call_lucas_ferrara_nyreblog_com_.jpg\n",
            "[Error]Invalid image, not saving https://www.nyrealestatelawblog.com/images/blog/lion_kenya_copyrighted_2012_all_rights_reserved_photo_call_lucas_ferrara_nyreblog_com_.jpg\n",
            "\n",
            "[!] Issue getting: https://www.nyrealestatelawblog.com/images/blog/lion_kenya_copyrighted_2012_all_rights_reserved_photo_call_lucas_ferrara_nyreblog_com_.jpg\n",
            "[!] Error:: Invalid image, not saving https://www.nyrealestatelawblog.com/images/blog/lion_kenya_copyrighted_2012_all_rights_reserved_photo_call_lucas_ferrara_nyreblog_com_.jpg\n",
            "\n",
            "[%] Downloading Image #9 from https://i.pinimg.com/originals/f7/ba/92/f7ba92faab91bf6c73c71998d85e07eb.jpg\n",
            "[%] File Downloaded !\n",
            "\n",
            "[%] Downloading Image #10 from https://cdn.quotesgram.com/img/6/72/201548158-6a00d8341bf67c53ef01538eb6620a970b-800wi.jpg\n",
            "[%] File Downloaded !\n",
            "\n",
            "[%] Downloading Image #11 from https://i.pinimg.com/originals/9d/f1/a8/9df1a8b92abae2c11ea5fe3b61ed4815.jpg\n",
            "[%] File Downloaded !\n",
            "\n",
            "[%] Downloading Image #12 from http://wallpaper4god.com/wallpapers/lion-of-tribe-judah_350_1024x768.jpg\n",
            "[%] File Downloaded !\n",
            "\n",
            "[%] Downloading Image #13 from https://lh4.googleusercontent.com/-_QlTF_0rWGE/TXBkC84wnUI/AAAAAAAABas/Ri8avg79H80/s1600/lion.jpg\n",
            "[%] File Downloaded !\n",
            "\n",
            "[%] Downloading Image #14 from https://i.pinimg.com/736x/23/c0/3d/23c03d76cca44aa3c1535667378250c2.jpg\n",
            "[%] File Downloaded !\n",
            "\n",
            "[%] Downloading Image #15 from https://cache.desktopnexus.com/thumbseg/665/665358-bigthumbnail.jpg\n",
            "[%] File Downloaded !\n",
            "\n",
            "[%] Downloading Image #16 from https://i.pinimg.com/originals/24/ba/28/24ba28f93976aa35636472dd5009cb63.jpg\n",
            "[%] File Downloaded !\n",
            "\n",
            "[%] Downloading Image #17 from https://i.pinimg.com/originals/a8/d1/e2/a8d1e27ee07ef1c18af321406098d53f.jpg\n",
            "[%] File Downloaded !\n",
            "\n",
            "[%] Downloading Image #18 from https://i.pinimg.com/originals/f6/12/49/f6124950e65f8f5898f6a0a6a2c438b4.jpg\n",
            "[%] File Downloaded !\n",
            "\n",
            "[%] Downloading Image #19 from https://i.ytimg.com/vi/sPrmgPmyQcc/maxresdefault.jpg\n",
            "[%] File Downloaded !\n",
            "\n",
            "[%] Downloading Image #20 from https://i.pinimg.com/originals/73/7a/2f/737a2f1647caa549458a9335eb820a29.jpg\n",
            "[%] File Downloaded !\n",
            "\n",
            "[%] Downloading Image #21 from http://i1.ytimg.com/vi/8xM3cGc1FeE/maxresdefault.jpg\n",
            "[%] File Downloaded !\n",
            "\n",
            "[%] Downloading Image #22 from https://i.pinimg.com/originals/1a/94/81/1a9481c11a26fd86ea2c7049e176bc7e.jpg\n",
            "[%] File Downloaded !\n",
            "\n",
            "[%] Downloading Image #23 from https://i.ytimg.com/vi/LPVzGDdFBi4/maxresdefault.jpg\n",
            "[%] File Downloaded !\n",
            "\n",
            "[%] Downloading Image #24 from https://i.ytimg.com/vi/wYJMzinz7Tc/maxresdefault.jpg\n",
            "[%] File Downloaded !\n",
            "\n",
            "[%] Downloading Image #25 from https://images-cdn.9gag.com/images/thumbnail-facebook/10715571_1402625168.9171_uSubus_n.jpg\n",
            "[%] File Downloaded !\n",
            "\n",
            "[%] Downloading Image #26 from https://i.pinimg.com/originals/28/b3/82/28b3820b149ac4df91b9041404ca46b7.jpg\n",
            "[%] File Downloaded !\n",
            "\n",
            "[%] Downloading Image #27 from https://i.pinimg.com/736x/7a/39/58/7a39585fd56e24b8c0931a942721ebf0--love-photos-lion-love.jpg\n",
            "[%] File Downloaded !\n",
            "\n",
            "[%] Downloading Image #28 from http://1.bp.blogspot.com/-r6k4KBj1VnM/TqAiRMwqXVI/AAAAAAAAA1s/r_5wUufXz7k/s1600/Lion%2BKing.jpg\n",
            "[%] File Downloaded !\n",
            "\n",
            "[%] Downloading Image #29 from http://media-cache-ak0.pinimg.com/736x/d6/31/b2/d631b20d420dbab4162ef117b0c2d05b.jpg\n",
            "[%] File Downloaded !\n",
            "\n",
            "\n",
            "\n",
            "[!!]Indexing page: 2\n",
            "\n",
            "[%] Indexed 35 Images on Page 2.\n",
            "\n",
            "===============================================\n",
            "\n",
            "[%] Downloading Image #30 from http://1.bp.blogspot.com/-WeQqykyLQJE/UOFwCsUW4JI/AAAAAAAAEmY/aPSDjWS111E/s1600/African-Lion.jpg\n",
            "[%] File Downloaded !\n",
            "\n",
            "\n",
            "\n",
            "[%] Done. Downloaded 30 images.\n",
            "===============================================\n",
            "\n",
            "Please show your support here\n",
            "https://www.buymeacoffee.com/gurugaurav\n",
            "\n",
            "===============================================\n",
            "\n",
            "time: 6.24 s (started: 2021-08-29 07:42:05 +00:00)\n"
          ],
          "name": "stdout"
        }
      ]
    },
    {
      "cell_type": "code",
      "metadata": {
        "colab": {
          "base_uri": "https://localhost:8080/"
        },
        "id": "AZJpSYHl8mZ8",
        "outputId": "45a91771-e8d1-4290-c10f-280020b379b6"
      },
      "source": [
        "#Preprocessing\n",
        "\n",
        "import os\n",
        "import matplotlib.pyplot as plt\n",
        "import numpy as np\n",
        "from skimage.io import imread\n",
        "from skimage.transform import resize\n",
        "\n",
        "target = []\n",
        "images = []\n",
        "flat_data = []\n",
        "\n",
        "DATADIR = '/content/images'\n",
        "CATEGORIES = ['lion','dog']\n",
        "\n",
        "for category in CATEGORIES:\n",
        "  class_num = CATEGORIES.index(category)\n",
        "  path = os.path.join(DATADIR,category)\n",
        "  for img in os.listdir(path):\n",
        "    img_array = imread(os.path.join(path,img))\n",
        "    #print(img_array.shape)\n",
        "    #plt.imshow(img_array)\n",
        "    img_resized = resize(img_array,(150,150,3))\n",
        "    flat_data.append(img_resized.flatten())\n",
        "    images.append(img_resized)\n",
        "    target.append(class_num)\n",
        "\n",
        "flat_data = np.array(flat_data)\n",
        "target = np.array(target)\n",
        "images = np.array(images)"
      ],
      "execution_count": 78,
      "outputs": [
        {
          "output_type": "stream",
          "text": [
            "time: 13.8 s (started: 2021-08-29 08:20:36 +00:00)\n"
          ],
          "name": "stdout"
        }
      ]
    },
    {
      "cell_type": "code",
      "metadata": {
        "id": "F-N5ddmE-Acp",
        "colab": {
          "base_uri": "https://localhost:8080/"
        },
        "outputId": "5ce3a41e-a040-4696-f1c0-4d063de4fca2"
      },
      "source": [
        "flat_data"
      ],
      "execution_count": 60,
      "outputs": [
        {
          "output_type": "execute_result",
          "data": {
            "text/plain": [
              "array([[0.03921569, 0.14509804, 0.25882353, ..., 0.19052288, 0.01372549,\n",
              "        0.00784314],\n",
              "       [0.76652688, 0.86052183, 0.72823425, ..., 0.99593063, 0.99159076,\n",
              "        0.97986928],\n",
              "       [0.43056993, 0.26978562, 0.15568627, ..., 0.42915033, 0.16328627,\n",
              "        0.01311634],\n",
              "       ...,\n",
              "       [0.37989542, 0.18845752, 0.09775163, ..., 0.7594902 , 0.64576471,\n",
              "        0.51941176],\n",
              "       [0.25481046, 0.22735948, 0.19245752, ..., 0.63882353, 0.59084967,\n",
              "        0.46113725],\n",
              "       [0.93943791, 0.9545098 , 0.95067974, ..., 0.67964706, 0.57346405,\n",
              "        0.53303268]])"
            ]
          },
          "metadata": {},
          "execution_count": 60
        },
        {
          "output_type": "stream",
          "text": [
            "time: 5.64 ms (started: 2021-08-29 07:42:25 +00:00)\n"
          ],
          "name": "stdout"
        }
      ]
    },
    {
      "cell_type": "code",
      "metadata": {
        "colab": {
          "base_uri": "https://localhost:8080/"
        },
        "id": "VYx7zUcGMjL-",
        "outputId": "db09b97a-d993-408e-d51c-dc46d811e24e"
      },
      "source": [
        "target"
      ],
      "execution_count": 61,
      "outputs": [
        {
          "output_type": "execute_result",
          "data": {
            "text/plain": [
              "array([0, 0, 0, 0, 0, 0, 0, 0, 0, 0, 0, 0, 0, 0, 0, 0, 0, 0, 0, 0, 0, 0,\n",
              "       0, 0, 0, 0, 0, 0, 0, 0, 1, 1, 1, 1, 1, 1, 1, 1, 1, 1, 1, 1, 1, 1,\n",
              "       1, 1, 1, 1, 1, 1, 1, 1, 1, 1, 1, 1, 1, 1, 1, 1])"
            ]
          },
          "metadata": {},
          "execution_count": 61
        },
        {
          "output_type": "stream",
          "text": [
            "time: 5 ms (started: 2021-08-29 07:42:25 +00:00)\n"
          ],
          "name": "stdout"
        }
      ]
    },
    {
      "cell_type": "code",
      "metadata": {
        "colab": {
          "base_uri": "https://localhost:8080/",
          "height": 298
        },
        "id": "8bj2aNTxM6Zs",
        "outputId": "97dfcd31-0ad7-4faf-b2e0-831e92aac4ec"
      },
      "source": [
        "unique,count = np.unique(target,return_counts=True)\n",
        "plt.bar(CATEGORIES,count)"
      ],
      "execution_count": 62,
      "outputs": [
        {
          "output_type": "execute_result",
          "data": {
            "text/plain": [
              "<BarContainer object of 2 artists>"
            ]
          },
          "metadata": {},
          "execution_count": 62
        },
        {
          "output_type": "display_data",
          "data": {
            "image/png": "[encoded data removed]",
            "text/plain": [
              "<Figure size 432x288 with 1 Axes>"
            ]
          },
          "metadata": {
            "needs_background": "light"
          }
        },
        {
          "output_type": "stream",
          "text": [
            "time: 203 ms (started: 2021-08-29 07:42:25 +00:00)\n"
          ],
          "name": "stdout"
        }
      ]
    },
    {
      "cell_type": "code",
      "metadata": {
        "colab": {
          "base_uri": "https://localhost:8080/"
        },
        "id": "RGP-DCh0NCrY",
        "outputId": "a25d1783-7093-49ea-b4fd-2ac5abafb3de"
      },
      "source": [
        "from sklearn.model_selection import train_test_split\n",
        "x_train,x_test,y_train,y_test = train_test_split(flat_data,target,test_size=0.3,random_state=102)"
      ],
      "execution_count": 63,
      "outputs": [
        {
          "output_type": "stream",
          "text": [
            "time: 14.2 ms (started: 2021-08-29 07:42:25 +00:00)\n"
          ],
          "name": "stdout"
        }
      ]
    },
    {
      "cell_type": "code",
      "metadata": {
        "colab": {
          "base_uri": "https://localhost:8080/"
        },
        "id": "RvyzhgRXOHpg",
        "outputId": "af35684f-344f-4259-b6a5-0c610633b976"
      },
      "source": [
        "from sklearn.model_selection import GridSearchCV\n",
        "from sklearn import svm\n",
        "param_grid = [\n",
        "              {'C':[1,10,100,1000],'kernel':['linear']},\n",
        "              {'C':[1,10,100,1000],'gamma':[0.001,0.0001],'kernel':['rbf']},\n",
        "]\n",
        "\n",
        "svc = svm.SVC(probability=True)\n",
        "clf = GridSearchCV(svc,param_grid)\n",
        "clf.fit(x_train,y_train)"
      ],
      "execution_count": 64,
      "outputs": [
        {
          "output_type": "execute_result",
          "data": {
            "text/plain": [
              "GridSearchCV(cv=None, error_score=nan,\n",
              "             estimator=SVC(C=1.0, break_ties=False, cache_size=200,\n",
              "                           class_weight=None, coef0=0.0,\n",
              "                           decision_function_shape='ovr', degree=3,\n",
              "                           gamma='scale', kernel='rbf', max_iter=-1,\n",
              "                           probability=True, random_state=None, shrinking=True,\n",
              "                           tol=0.001, verbose=False),\n",
              "             iid='deprecated', n_jobs=None,\n",
              "             param_grid=[{'C': [1, 10, 100, 1000], 'kernel': ['linear']},\n",
              "                         {'C': [1, 10, 100, 1000], 'gamma': [0.001, 0.0001],\n",
              "                          'kernel': ['rbf']}],\n",
              "             pre_dispatch='2*n_jobs', refit=True, return_train_score=False,\n",
              "             scoring=None, verbose=0)"
            ]
          },
          "metadata": {},
          "execution_count": 64
        },
        {
          "output_type": "stream",
          "text": [
            "time: 44.6 s (started: 2021-08-29 07:42:25 +00:00)\n"
          ],
          "name": "stdout"
        }
      ]
    },
    {
      "cell_type": "code",
      "metadata": {
        "colab": {
          "base_uri": "https://localhost:8080/"
        },
        "id": "NuP9qWkKP7Ww",
        "outputId": "69bca855-e8dd-4ee5-dc3d-1c1883cd96c7"
      },
      "source": [
        "y_pred = clf.predict(x_test)\n",
        "y_pred"
      ],
      "execution_count": 65,
      "outputs": [
        {
          "output_type": "execute_result",
          "data": {
            "text/plain": [
              "array([1, 1, 1, 1, 0, 1, 1, 1, 0, 0, 0, 1, 1, 1, 1, 0, 1, 1])"
            ]
          },
          "metadata": {},
          "execution_count": 65
        },
        {
          "output_type": "stream",
          "text": [
            "time: 83.6 ms (started: 2021-08-29 07:43:10 +00:00)\n"
          ],
          "name": "stdout"
        }
      ]
    },
    {
      "cell_type": "code",
      "metadata": {
        "colab": {
          "base_uri": "https://localhost:8080/"
        },
        "id": "4EKQuJklSsIK",
        "outputId": "8545c535-450e-4895-b0a8-55166cf1ef3b"
      },
      "source": [
        "y_test"
      ],
      "execution_count": 66,
      "outputs": [
        {
          "output_type": "execute_result",
          "data": {
            "text/plain": [
              "array([0, 0, 1, 1, 0, 1, 0, 1, 0, 0, 0, 0, 1, 1, 1, 0, 0, 0])"
            ]
          },
          "metadata": {},
          "execution_count": 66
        },
        {
          "output_type": "stream",
          "text": [
            "time: 3.81 ms (started: 2021-08-29 07:43:10 +00:00)\n"
          ],
          "name": "stdout"
        }
      ]
    },
    {
      "cell_type": "code",
      "metadata": {
        "colab": {
          "base_uri": "https://localhost:8080/"
        },
        "id": "N_fWSxCOSuD5",
        "outputId": "a8351e08-07ba-49d5-8a58-9df7a4637faf"
      },
      "source": [
        "from sklearn.metrics import accuracy_score,confusion_matrix"
      ],
      "execution_count": 67,
      "outputs": [
        {
          "output_type": "stream",
          "text": [
            "time: 1.65 ms (started: 2021-08-29 07:43:10 +00:00)\n"
          ],
          "name": "stdout"
        }
      ]
    },
    {
      "cell_type": "code",
      "metadata": {
        "colab": {
          "base_uri": "https://localhost:8080/"
        },
        "id": "ImMTWyapS50W",
        "outputId": "a0b23efa-0e99-4efb-f8ab-7ce7c51c7ff5"
      },
      "source": [
        "accuracy_score(y_pred,y_test)"
      ],
      "execution_count": 68,
      "outputs": [
        {
          "output_type": "execute_result",
          "data": {
            "text/plain": [
              "0.6666666666666666"
            ]
          },
          "metadata": {},
          "execution_count": 68
        },
        {
          "output_type": "stream",
          "text": [
            "time: 4.81 ms (started: 2021-08-29 07:43:10 +00:00)\n"
          ],
          "name": "stdout"
        }
      ]
    },
    {
      "cell_type": "code",
      "metadata": {
        "colab": {
          "base_uri": "https://localhost:8080/"
        },
        "id": "peRshgDFS_AP",
        "outputId": "80d1d7b5-5fb1-4eb1-9005-7964eab4f9a1"
      },
      "source": [
        "confusion_matrix(y_pred,y_test)"
      ],
      "execution_count": 69,
      "outputs": [
        {
          "output_type": "execute_result",
          "data": {
            "text/plain": [
              "array([[5, 0],\n",
              "       [6, 7]])"
            ]
          },
          "metadata": {},
          "execution_count": 69
        },
        {
          "output_type": "stream",
          "text": [
            "time: 5.03 ms (started: 2021-08-29 07:43:10 +00:00)\n"
          ],
          "name": "stdout"
        }
      ]
    },
    {
      "cell_type": "code",
      "metadata": {
        "colab": {
          "base_uri": "https://localhost:8080/"
        },
        "id": "GNqH5VxXTIvo",
        "outputId": "a9351af2-7317-4744-ddf7-63c806f31260"
      },
      "source": [
        "import pickle\n",
        "pickle.dump(clf,open('img_model.p','wb'))"
      ],
      "execution_count": 70,
      "outputs": [
        {
          "output_type": "stream",
          "text": [
            "time: 37 ms (started: 2021-08-29 07:43:10 +00:00)\n"
          ],
          "name": "stdout"
        }
      ]
    },
    {
      "cell_type": "code",
      "metadata": {
        "colab": {
          "base_uri": "https://localhost:8080/"
        },
        "id": "OMOUtQNYTePf",
        "outputId": "db677b42-a9a5-48cb-aecc-61e324fc6152"
      },
      "source": [
        "model = pickle.load(open('img_model.p','rb'))"
      ],
      "execution_count": 71,
      "outputs": [
        {
          "output_type": "stream",
          "text": [
            "time: 13.7 ms (started: 2021-08-29 07:43:10 +00:00)\n"
          ],
          "name": "stdout"
        }
      ]
    },
    {
      "cell_type": "code",
      "metadata": {
        "id": "u1JdgElnTt3_",
        "colab": {
          "base_uri": "https://localhost:8080/",
          "height": 336
        },
        "outputId": "52825382-c32b-4d82-e294-309f60ce8f95"
      },
      "source": [
        "flat_data = []\n",
        "url = input('Enter your URL')\n",
        "img = imread(url)\n",
        "img_resized = resize(img,(150,150,3))\n",
        "flat_data.append(img_resized.flatten())\n",
        "flat_data = np.array(flat_data)\n",
        "print(img.shape)\n",
        "plt.imshow(img_resized)\n",
        "y_out = model.predict(flat_data)\n",
        "y_out = CATEGORIES[y_out[0]]\n",
        "print(f' PREDICTED OUTPUT: {y_out}')"
      ],
      "execution_count": 84,
      "outputs": [
        {
          "output_type": "stream",
          "text": [
            "Enter your URLhttps://media.vanityfair.com/photos/5d2750b1abb5c9000873bced/2:3/w_775,h_1163,c_limit/lion-king-review.jpg\n",
            "(1163, 775, 3)\n",
            " PREDICTED OUTPUT: lion\n"
          ],
          "name": "stdout"
        },
        {
          "output_type": "display_data",
          "data": {
            "image/png": "[encoded data removed]",
            "text/plain": [
              "<Figure size 432x288 with 1 Axes>"
            ]
          },
          "metadata": {
            "needs_background": "light"
          }
        },
        {
          "output_type": "stream",
          "text": [
            "time: 3.34 s (started: 2021-08-29 08:24:36 +00:00)\n"
          ],
          "name": "stdout"
        }
      ]
    }
  ]
}